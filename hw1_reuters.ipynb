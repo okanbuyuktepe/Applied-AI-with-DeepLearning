{
  "nbformat": 4,
  "nbformat_minor": 0,
  "metadata": {
    "colab": {
      "name": "hw1-reuters.ipynb",
      "provenance": [],
      "authorship_tag": "ABX9TyNUjFiZ+4CRmJNDA7SxazJs",
      "include_colab_link": true
    },
    "kernelspec": {
      "name": "python3",
      "display_name": "Python 3"
    }
  },
  "cells": [
    {
      "cell_type": "markdown",
      "metadata": {
        "id": "view-in-github",
        "colab_type": "text"
      },
      "source": [
        "<a href=\"https://colab.research.google.com/github/okanbuyuktepe/Applied-AI-with-DeepLearning/blob/master/hw1_reuters.ipynb\" target=\"_parent\"><img src=\"https://colab.research.google.com/assets/colab-badge.svg\" alt=\"Open In Colab\"/></a>"
      ]
    },
    {
      "cell_type": "code",
      "metadata": {
        "id": "ly4YPlrWHjda",
        "colab_type": "code",
        "colab": {
          "base_uri": "https://localhost:8080/",
          "height": 34
        },
        "outputId": "900fa64a-183d-4a0b-e1c9-445d6dd33eb9"
      },
      "source": [
        "import numpy as np\n",
        "from keras.models import Sequential\n",
        "from keras.layers import Dense, Dropout\n",
        "from keras.utils import to_categorical\n",
        "\n",
        "seed = 1337\n",
        "np.random.seed(seed)\n",
        "from keras.datasets import reuters\n",
        "\n",
        "max_words = 10000\n",
        "(x_train, y_train), (x_test, y_test) = reuters.load_data(num_words= max_words, test_split=0.2, seed=seed)\n",
        "\n",
        "num_classes = np.max(y_train) + 1  # 46 topics\n",
        "num_classes"
      ],
      "execution_count": 11,
      "outputs": [
        {
          "output_type": "execute_result",
          "data": {
            "text/plain": [
              "46"
            ]
          },
          "metadata": {
            "tags": []
          },
          "execution_count": 11
        }
      ]
    },
    {
      "cell_type": "code",
      "metadata": {
        "id": "u7NUCEIlIGCx",
        "colab_type": "code",
        "colab": {}
      },
      "source": [
        "from tensorflow.keras.preprocessing.text import Tokenizer\n",
        "\n",
        "tokenizer = Tokenizer(num_words=max_words)\n",
        "x_train = tokenizer.sequences_to_matrix(x_train, mode='binary')\n",
        "x_test = tokenizer.sequences_to_matrix(x_test, mode='binary')"
      ],
      "execution_count": 22,
      "outputs": []
    },
    {
      "cell_type": "code",
      "metadata": {
        "id": "B3gdYf8JQoOC",
        "colab_type": "code",
        "colab": {}
      },
      "source": [
        "y_train = to_categorical(y_train, num_classes= num_classes)\n",
        "y_test  = to_categorical(y_test, num_classes= num_classes)"
      ],
      "execution_count": 23,
      "outputs": []
    },
    {
      "cell_type": "code",
      "metadata": {
        "id": "hcMGZr1wckus",
        "colab_type": "code",
        "colab": {}
      },
      "source": [
        "model = Sequential()\n",
        "model.add(Dense(512, activation='relu', input_shape=(max_words,)))\n",
        "model.add(Dropout(0.2))\n",
        "model.add(Dense(num_classes, activation='softmax'))"
      ],
      "execution_count": 26,
      "outputs": []
    },
    {
      "cell_type": "code",
      "metadata": {
        "id": "c8LU-ldUdPgK",
        "colab_type": "code",
        "colab": {}
      },
      "source": [
        "model.compile(optimizer='adam', loss='categorical_crossentropy', metrics=['accuracy'])"
      ],
      "execution_count": 27,
      "outputs": []
    },
    {
      "cell_type": "code",
      "metadata": {
        "id": "56_ug2Jxd2o0",
        "colab_type": "code",
        "colab": {
          "base_uri": "https://localhost:8080/",
          "height": 221
        },
        "outputId": "9aae9972-adae-4f05-fcf8-6ab67f0889f1"
      },
      "source": [
        "batch_size = 32\n",
        "model.fit(x_train, y_train, batch_size= batch_size, epochs=5, validation_data=(x_test, y_test))\n",
        "score = model.evaluate(x_test, y_test, batch_size= batch_size)"
      ],
      "execution_count": 29,
      "outputs": [
        {
          "output_type": "stream",
          "text": [
            "Train on 8982 samples, validate on 2246 samples\n",
            "Epoch 1/5\n",
            "8982/8982 [==============================] - 20s 2ms/step - loss: 0.1918 - accuracy: 0.9491 - val_loss: 0.9186 - val_accuracy: 0.8103\n",
            "Epoch 2/5\n",
            "8982/8982 [==============================] - 20s 2ms/step - loss: 0.1934 - accuracy: 0.9468 - val_loss: 0.8895 - val_accuracy: 0.8085\n",
            "Epoch 3/5\n",
            "8982/8982 [==============================] - 20s 2ms/step - loss: 0.1760 - accuracy: 0.9492 - val_loss: 0.9044 - val_accuracy: 0.8112\n",
            "Epoch 4/5\n",
            "8982/8982 [==============================] - 20s 2ms/step - loss: 0.1684 - accuracy: 0.9496 - val_loss: 0.9557 - val_accuracy: 0.8037\n",
            "Epoch 5/5\n",
            "8982/8982 [==============================] - 20s 2ms/step - loss: 0.1646 - accuracy: 0.9505 - val_loss: 0.9792 - val_accuracy: 0.8072\n",
            "2246/2246 [==============================] - 1s 355us/step\n"
          ],
          "name": "stdout"
        }
      ]
    },
    {
      "cell_type": "code",
      "metadata": {
        "id": "PEP0e1pOeZ_u",
        "colab_type": "code",
        "colab": {
          "base_uri": "https://localhost:8080/",
          "height": 34
        },
        "outputId": "e6578b6d-3136-4d91-a8ff-36444b09ec74"
      },
      "source": [
        "score[1]"
      ],
      "execution_count": 30,
      "outputs": [
        {
          "output_type": "execute_result",
          "data": {
            "text/plain": [
              "0.8072128295898438"
            ]
          },
          "metadata": {
            "tags": []
          },
          "execution_count": 30
        }
      ]
    },
    {
      "cell_type": "code",
      "metadata": {
        "id": "Gua2Jb9ye4sy",
        "colab_type": "code",
        "colab": {
          "base_uri": "https://localhost:8080/",
          "height": 204
        },
        "outputId": "7a37c13d-44ed-4a15-aaf3-417d263a8573"
      },
      "source": [
        "!rm -f rklib.py\n",
        "!wget https://raw.githubusercontent.com/IBM/coursera/master/rklib.py"
      ],
      "execution_count": 31,
      "outputs": [
        {
          "output_type": "stream",
          "text": [
            "--2020-06-17 08:55:43--  https://raw.githubusercontent.com/IBM/coursera/master/rklib.py\n",
            "Resolving raw.githubusercontent.com (raw.githubusercontent.com)... 151.101.0.133, 151.101.64.133, 151.101.128.133, ...\n",
            "Connecting to raw.githubusercontent.com (raw.githubusercontent.com)|151.101.0.133|:443... connected.\n",
            "HTTP request sent, awaiting response... 200 OK\n",
            "Length: 2540 (2.5K) [text/plain]\n",
            "Saving to: ‘rklib.py’\n",
            "\n",
            "\rrklib.py              0%[                    ]       0  --.-KB/s               \rrklib.py            100%[===================>]   2.48K  --.-KB/s    in 0s      \n",
            "\n",
            "2020-06-17 08:55:44 (48.5 MB/s) - ‘rklib.py’ saved [2540/2540]\n",
            "\n"
          ],
          "name": "stdout"
        }
      ]
    },
    {
      "cell_type": "code",
      "metadata": {
        "id": "FqDWjW9wfdF2",
        "colab_type": "code",
        "colab": {
          "base_uri": "https://localhost:8080/",
          "height": 85
        },
        "outputId": "71baf980-3da8-4267-fec3-15757b481562"
      },
      "source": [
        "from rklib import submit\n",
        "import json\n",
        "\n",
        "key = \"XbAMqtjdEeepUgo7OOVwng\"\n",
        "part = \"HCvcp\"\n",
        "email = 'okan.buyuktepe@bahcesehir.edu.tr'\n",
        "token = '6V2EneWOWwmTRaWI' \n",
        "\n",
        "\n",
        "submit(email, token, 'XbAMqtjdEeepUgo7OOVwng', part, [part], json.dumps(score[1]*100))"
      ],
      "execution_count": 33,
      "outputs": [
        {
          "output_type": "stream",
          "text": [
            "Submission successful, please check on the coursera grader page for the status\n",
            "-------------------------\n",
            "{\"elements\":[{\"itemId\":\"ozVf2\",\"id\":\"tE4j0qhMEeecqgpT6QjMdA~ozVf2~txYIm7B4EeqcoA7Jsw3o1Q\",\"courseId\":\"tE4j0qhMEeecqgpT6QjMdA\"}],\"paging\":{},\"linked\":{}}\n",
            "-------------------------\n"
          ],
          "name": "stdout"
        }
      ]
    }
  ]
}