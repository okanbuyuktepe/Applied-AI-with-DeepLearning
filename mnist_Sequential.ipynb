{
  "nbformat": 4,
  "nbformat_minor": 0,
  "metadata": {
    "colab": {
      "name": "mnist-Sequential.ipynb",
      "provenance": [],
      "authorship_tag": "ABX9TyOMbdl6TFq2SzveWomdL27Y",
      "include_colab_link": true
    },
    "kernelspec": {
      "name": "python3",
      "display_name": "Python 3"
    }
  },
  "cells": [
    {
      "cell_type": "markdown",
      "metadata": {
        "id": "view-in-github",
        "colab_type": "text"
      },
      "source": [
        "<a href=\"https://colab.research.google.com/github/okanbuyuktepe/Applied-AI-with-DeepLearning/blob/master/mnist_Sequential.ipynb\" target=\"_parent\"><img src=\"https://colab.research.google.com/assets/colab-badge.svg\" alt=\"Open In Colab\"/></a>"
      ]
    },
    {
      "cell_type": "code",
      "metadata": {
        "id": "SUn_JOTBSRDz",
        "colab_type": "code",
        "colab": {}
      },
      "source": [
        "import tensorflow as tf"
      ],
      "execution_count": 1,
      "outputs": []
    },
    {
      "cell_type": "code",
      "metadata": {
        "id": "ZdT4cc_wSZ4U",
        "colab_type": "code",
        "colab": {
          "base_uri": "https://localhost:8080/",
          "height": 34
        },
        "outputId": "d3502e52-ec00-4b09-f02f-d927ddf741a1"
      },
      "source": [
        "from keras.datasets import mnist\n",
        "from keras.utils import to_categorical\n",
        "from keras.models import Sequential\n",
        "from keras.layers import Dropout\n",
        "from keras.layers import Dense"
      ],
      "execution_count": 2,
      "outputs": [
        {
          "output_type": "stream",
          "text": [
            "Using TensorFlow backend.\n"
          ],
          "name": "stderr"
        }
      ]
    },
    {
      "cell_type": "code",
      "metadata": {
        "id": "k2m9hQepSvwi",
        "colab_type": "code",
        "colab": {}
      },
      "source": [
        "batch_size = 128\n",
        "num_classes = 10\n",
        "epochs = 20"
      ],
      "execution_count": 3,
      "outputs": []
    },
    {
      "cell_type": "markdown",
      "metadata": {
        "id": "ljrUpu8qTFrE",
        "colab_type": "text"
      },
      "source": [
        "Mnist dataset consists 60,000 train sample and  10,000 test sample. 28 x 28 handwritten digits(0 to 9)"
      ]
    },
    {
      "cell_type": "code",
      "metadata": {
        "id": "RlkqMYSaS25v",
        "colab_type": "code",
        "colab": {}
      },
      "source": [
        "(x_train, y_train), (x_test, y_test) = mnist.load_data()"
      ],
      "execution_count": 4,
      "outputs": []
    },
    {
      "cell_type": "markdown",
      "metadata": {
        "id": "tKYRw5_ZTvBc",
        "colab_type": "text"
      },
      "source": [
        "#### Data Preprocessing"
      ]
    },
    {
      "cell_type": "code",
      "metadata": {
        "id": "NtDJLpWbTzM7",
        "colab_type": "code",
        "colab": {}
      },
      "source": [
        "x_train = x_train.reshape(60000, 784) # 28x28 should be flatten as 784 vector to give Dense Layer\n",
        "x_test  = x_test.reshape(10000, 784)\n",
        "x_train = x_train.astype('float32')\n",
        "x_test  = x_test.astype('float32')\n",
        "x_train /= 255 # arriving at the values that between 0 and 1\n",
        "x_test /= 255\n",
        "\n",
        "# One hot enconding\n",
        "y_train = to_categorical(y_train, num_classes =num_classes)\n",
        "y_test  = to_categorical(y_test, num_classes= num_classes)"
      ],
      "execution_count": 5,
      "outputs": []
    },
    {
      "cell_type": "code",
      "metadata": {
        "id": "oVHlisRHci8-",
        "colab_type": "code",
        "colab": {
          "base_uri": "https://localhost:8080/",
          "height": 85
        },
        "outputId": "0d6024c7-376a-4d3c-bf48-0f929eb48c2e"
      },
      "source": [
        "print(x_train.shape)\n",
        "print(x_test.shape)\n",
        "print(y_train.shape)\n",
        "print(y_test.shape)"
      ],
      "execution_count": 6,
      "outputs": [
        {
          "output_type": "stream",
          "text": [
            "(60000, 784)\n",
            "(10000, 784)\n",
            "(60000, 10)\n",
            "(10000, 10)\n"
          ],
          "name": "stdout"
        }
      ]
    },
    {
      "cell_type": "markdown",
      "metadata": {
        "id": "nR4_X5w4WD72",
        "colab_type": "text"
      },
      "source": [
        "Defining and Compiling our model"
      ]
    },
    {
      "cell_type": "code",
      "metadata": {
        "id": "cInVRWUvUwiv",
        "colab_type": "code",
        "colab": {
          "base_uri": "https://localhost:8080/",
          "height": 323
        },
        "outputId": "c5b1607b-17bb-4a81-cbb9-1a7c2449064d"
      },
      "source": [
        "model = Sequential()\n",
        "model.add(Dense(512, activation='relu', input_shape=(784,))) # First layer only\n",
        "model.add(Dropout(0.2)) # drop rate %20\n",
        "model.add(Dense(512, activation='relu'))\n",
        "model.add(Dropout(0.2))\n",
        "model.add(Dense(num_classes, activation='softmax'))\n",
        "\n",
        "model.summary()\n",
        "\n",
        "model.compile(loss='categorical_crossentropy', optimizer='sgd', metrics=['accuracy'])"
      ],
      "execution_count": 7,
      "outputs": [
        {
          "output_type": "stream",
          "text": [
            "Model: \"sequential_1\"\n",
            "_________________________________________________________________\n",
            "Layer (type)                 Output Shape              Param #   \n",
            "=================================================================\n",
            "dense_1 (Dense)              (None, 512)               401920    \n",
            "_________________________________________________________________\n",
            "dropout_1 (Dropout)          (None, 512)               0         \n",
            "_________________________________________________________________\n",
            "dense_2 (Dense)              (None, 512)               262656    \n",
            "_________________________________________________________________\n",
            "dropout_2 (Dropout)          (None, 512)               0         \n",
            "_________________________________________________________________\n",
            "dense_3 (Dense)              (None, 10)                5130      \n",
            "=================================================================\n",
            "Total params: 669,706\n",
            "Trainable params: 669,706\n",
            "Non-trainable params: 0\n",
            "_________________________________________________________________\n"
          ],
          "name": "stdout"
        }
      ]
    },
    {
      "cell_type": "code",
      "metadata": {
        "id": "hX-Xk4KWW4Xo",
        "colab_type": "code",
        "colab": {
          "base_uri": "https://localhost:8080/",
          "height": 748
        },
        "outputId": "2362a800-b7d8-4636-f6a4-51134d97aeec"
      },
      "source": [
        "model.fit(x_train, y_train, batch_size=batch_size, epochs= epochs, validation_data=(x_test, y_test))\n",
        "score = model.evaluate(x_test, y_test, verbose=0)\n",
        "print('Test Loss :' ,score[0])\n",
        "print('Test Accuracy :', score[1])"
      ],
      "execution_count": 8,
      "outputs": [
        {
          "output_type": "stream",
          "text": [
            "Train on 60000 samples, validate on 10000 samples\n",
            "Epoch 1/20\n",
            "60000/60000 [==============================] - 8s 127us/step - loss: 1.2123 - accuracy: 0.6820 - val_loss: 0.5456 - val_accuracy: 0.8689\n",
            "Epoch 2/20\n",
            "60000/60000 [==============================] - 7s 122us/step - loss: 0.5372 - accuracy: 0.8483 - val_loss: 0.3819 - val_accuracy: 0.8975\n",
            "Epoch 3/20\n",
            "60000/60000 [==============================] - 7s 124us/step - loss: 0.4308 - accuracy: 0.8760 - val_loss: 0.3267 - val_accuracy: 0.9095\n",
            "Epoch 4/20\n",
            "60000/60000 [==============================] - 7s 123us/step - loss: 0.3783 - accuracy: 0.8919 - val_loss: 0.2985 - val_accuracy: 0.9155\n",
            "Epoch 5/20\n",
            "60000/60000 [==============================] - 7s 124us/step - loss: 0.3440 - accuracy: 0.9021 - val_loss: 0.2719 - val_accuracy: 0.9247\n",
            "Epoch 6/20\n",
            "60000/60000 [==============================] - 7s 123us/step - loss: 0.3186 - accuracy: 0.9080 - val_loss: 0.2547 - val_accuracy: 0.9279\n",
            "Epoch 7/20\n",
            "60000/60000 [==============================] - 7s 124us/step - loss: 0.2974 - accuracy: 0.9146 - val_loss: 0.2392 - val_accuracy: 0.9315\n",
            "Epoch 8/20\n",
            "60000/60000 [==============================] - 7s 123us/step - loss: 0.2817 - accuracy: 0.9184 - val_loss: 0.2264 - val_accuracy: 0.9352\n",
            "Epoch 9/20\n",
            "60000/60000 [==============================] - 7s 124us/step - loss: 0.2659 - accuracy: 0.9222 - val_loss: 0.2163 - val_accuracy: 0.9373\n",
            "Epoch 10/20\n",
            "60000/60000 [==============================] - 8s 126us/step - loss: 0.2544 - accuracy: 0.9268 - val_loss: 0.2056 - val_accuracy: 0.9398\n",
            "Epoch 11/20\n",
            "60000/60000 [==============================] - 7s 125us/step - loss: 0.2414 - accuracy: 0.9305 - val_loss: 0.1979 - val_accuracy: 0.9425\n",
            "Epoch 12/20\n",
            "60000/60000 [==============================] - 8s 125us/step - loss: 0.2313 - accuracy: 0.9329 - val_loss: 0.1898 - val_accuracy: 0.9442\n",
            "Epoch 13/20\n",
            "60000/60000 [==============================] - 8s 125us/step - loss: 0.2218 - accuracy: 0.9360 - val_loss: 0.1827 - val_accuracy: 0.9460\n",
            "Epoch 14/20\n",
            "60000/60000 [==============================] - 7s 124us/step - loss: 0.2148 - accuracy: 0.9374 - val_loss: 0.1764 - val_accuracy: 0.9485\n",
            "Epoch 15/20\n",
            "60000/60000 [==============================] - 7s 123us/step - loss: 0.2054 - accuracy: 0.9409 - val_loss: 0.1703 - val_accuracy: 0.9498\n",
            "Epoch 16/20\n",
            "60000/60000 [==============================] - 7s 123us/step - loss: 0.1982 - accuracy: 0.9426 - val_loss: 0.1642 - val_accuracy: 0.9521\n",
            "Epoch 17/20\n",
            "60000/60000 [==============================] - 7s 124us/step - loss: 0.1926 - accuracy: 0.9444 - val_loss: 0.1583 - val_accuracy: 0.9537\n",
            "Epoch 18/20\n",
            "60000/60000 [==============================] - 7s 124us/step - loss: 0.1859 - accuracy: 0.9466 - val_loss: 0.1536 - val_accuracy: 0.9548\n",
            "Epoch 19/20\n",
            "60000/60000 [==============================] - 7s 124us/step - loss: 0.1808 - accuracy: 0.9474 - val_loss: 0.1500 - val_accuracy: 0.9557\n",
            "Epoch 20/20\n",
            "60000/60000 [==============================] - 7s 124us/step - loss: 0.1754 - accuracy: 0.9495 - val_loss: 0.1457 - val_accuracy: 0.9573\n",
            "Test Loss : 0.14565949921496213\n",
            "Test Accuracy : 0.9573000073432922\n"
          ],
          "name": "stdout"
        }
      ]
    },
    {
      "cell_type": "code",
      "metadata": {
        "id": "nmEE_564YnCO",
        "colab_type": "code",
        "colab": {}
      },
      "source": [
        ""
      ],
      "execution_count": 8,
      "outputs": []
    }
  ]
}