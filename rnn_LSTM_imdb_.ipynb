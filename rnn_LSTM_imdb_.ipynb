{
  "nbformat": 4,
  "nbformat_minor": 0,
  "metadata": {
    "colab": {
      "name": "rnn-LSTM-imdb-.ipynb",
      "provenance": [],
      "authorship_tag": "ABX9TyP2uKXk065FRBQGreM4SdUR",
      "include_colab_link": true
    },
    "kernelspec": {
      "name": "python3",
      "display_name": "Python 3"
    }
  },
  "cells": [
    {
      "cell_type": "markdown",
      "metadata": {
        "id": "view-in-github",
        "colab_type": "text"
      },
      "source": [
        "<a href=\"https://colab.research.google.com/github/okanbuyuktepe/Applied-AI-with-DeepLearning/blob/master/rnn_LSTM_imdb_.ipynb\" target=\"_parent\"><img src=\"https://colab.research.google.com/assets/colab-badge.svg\" alt=\"Open In Colab\"/></a>"
      ]
    },
    {
      "cell_type": "markdown",
      "metadata": {
        "id": "KXw_445g2Lqe",
        "colab_type": "text"
      },
      "source": [
        "#Simple RNN\n",
        "\n",
        "## GRU - Gated Recursive Unit (2014)\n",
        "\n",
        "## LSTM - Long Short Term Memory (1997)"
      ]
    },
    {
      "cell_type": "code",
      "metadata": {
        "id": "ohC71_z412z7",
        "colab_type": "code",
        "colab": {}
      },
      "source": [
        "import tensorflow as tf"
      ],
      "execution_count": 1,
      "outputs": []
    },
    {
      "cell_type": "code",
      "metadata": {
        "id": "Kr8QYTjG5sLp",
        "colab_type": "code",
        "colab": {}
      },
      "source": [
        "from keras.preprocessing import sequence\n",
        "from keras.models import Sequential\n",
        "from keras.layers import Dense, Embedding\n",
        "from keras.layers import LSTM\n",
        "from keras.datasets import imdb"
      ],
      "execution_count": 2,
      "outputs": []
    },
    {
      "cell_type": "code",
      "metadata": {
        "id": "3byxbcnV6Bqf",
        "colab_type": "code",
        "colab": {}
      },
      "source": [
        "max_features = 20000\n",
        "maxlen = 80"
      ],
      "execution_count": 3,
      "outputs": []
    },
    {
      "cell_type": "markdown",
      "metadata": {
        "id": "JdcGZipB7zRw",
        "colab_type": "text"
      },
      "source": [
        "We have 'bad' and 'good' labels"
      ]
    },
    {
      "cell_type": "code",
      "metadata": {
        "id": "ypy00Dye6HI9",
        "colab_type": "code",
        "colab": {}
      },
      "source": [
        "(x_train, y_train), (x_test, y_test) =  imdb.load_data(num_words=max_features)"
      ],
      "execution_count": 10,
      "outputs": []
    },
    {
      "cell_type": "code",
      "metadata": {
        "id": "pZQxlYQT6iTk",
        "colab_type": "code",
        "colab": {}
      },
      "source": [
        "x_train = sequence.pad_sequences(x_train, maxlen=maxlen)\n",
        "x_test  = sequence.pad_sequences(x_test, maxlen= maxlen)"
      ],
      "execution_count": 11,
      "outputs": []
    },
    {
      "cell_type": "code",
      "metadata": {
        "id": "cfy8_WHa7Dn2",
        "colab_type": "code",
        "colab": {}
      },
      "source": [
        "model = Sequential()\n",
        "model.add(Embedding(max_features, 128))\n",
        "model.add(LSTM(128, dropout=0.2, recurrent_dropout=0.2))\n",
        "model.add(Dense(1, activation='sigmoid'))"
      ],
      "execution_count": 12,
      "outputs": []
    },
    {
      "cell_type": "code",
      "metadata": {
        "id": "xWoT81LP7dJC",
        "colab_type": "code",
        "colab": {
          "base_uri": "https://localhost:8080/",
          "height": 632
        },
        "outputId": "d744fbd5-c620-495b-a0a7-fdd31d7ddc61"
      },
      "source": [
        "model.compile(loss = 'binary_crossentropy', optimizer='sgd', metrics=['accuracy'])\n",
        "model.fit(x_train, y_test, batch_size=32, epochs=15, validation_data=(x_test, y_test))\n",
        "model.evaluate(x_test, y_test, batch_size=32)"
      ],
      "execution_count": 13,
      "outputs": [
        {
          "output_type": "stream",
          "text": [
            "/usr/local/lib/python3.6/dist-packages/tensorflow/python/framework/indexed_slices.py:434: UserWarning: Converting sparse IndexedSlices to a dense Tensor of unknown shape. This may consume a large amount of memory.\n",
            "  \"Converting sparse IndexedSlices to a dense Tensor of unknown shape. \"\n"
          ],
          "name": "stderr"
        },
        {
          "output_type": "stream",
          "text": [
            "Train on 25000 samples, validate on 25000 samples\n",
            "Epoch 1/15\n",
            "25000/25000 [==============================] - 120s 5ms/step - loss: 0.6932 - accuracy: 0.5028 - val_loss: 0.6933 - val_accuracy: 0.4865\n",
            "Epoch 2/15\n",
            "25000/25000 [==============================] - 118s 5ms/step - loss: 0.6932 - accuracy: 0.5012 - val_loss: 0.6933 - val_accuracy: 0.4850\n",
            "Epoch 3/15\n",
            "25000/25000 [==============================] - 119s 5ms/step - loss: 0.6932 - accuracy: 0.4970 - val_loss: 0.6933 - val_accuracy: 0.4838\n",
            "Epoch 4/15\n",
            "25000/25000 [==============================] - 121s 5ms/step - loss: 0.6931 - accuracy: 0.5036 - val_loss: 0.6933 - val_accuracy: 0.4822\n",
            "Epoch 5/15\n",
            "25000/25000 [==============================] - 122s 5ms/step - loss: 0.6932 - accuracy: 0.5042 - val_loss: 0.6933 - val_accuracy: 0.5046\n",
            "Epoch 6/15\n",
            "25000/25000 [==============================] - 121s 5ms/step - loss: 0.6931 - accuracy: 0.5044 - val_loss: 0.6933 - val_accuracy: 0.5052\n",
            "Epoch 7/15\n",
            "25000/25000 [==============================] - 121s 5ms/step - loss: 0.6931 - accuracy: 0.5020 - val_loss: 0.6934 - val_accuracy: 0.5035\n",
            "Epoch 8/15\n",
            "25000/25000 [==============================] - 120s 5ms/step - loss: 0.6932 - accuracy: 0.5009 - val_loss: 0.6934 - val_accuracy: 0.4984\n",
            "Epoch 9/15\n",
            "25000/25000 [==============================] - 120s 5ms/step - loss: 0.6931 - accuracy: 0.5040 - val_loss: 0.6933 - val_accuracy: 0.4808\n",
            "Epoch 10/15\n",
            "25000/25000 [==============================] - 121s 5ms/step - loss: 0.6931 - accuracy: 0.5052 - val_loss: 0.6933 - val_accuracy: 0.4909\n",
            "Epoch 11/15\n",
            "25000/25000 [==============================] - 121s 5ms/step - loss: 0.6931 - accuracy: 0.5043 - val_loss: 0.6933 - val_accuracy: 0.4988\n",
            "Epoch 12/15\n",
            "25000/25000 [==============================] - 126s 5ms/step - loss: 0.6931 - accuracy: 0.5042 - val_loss: 0.6933 - val_accuracy: 0.4965\n",
            "Epoch 13/15\n",
            "25000/25000 [==============================] - 121s 5ms/step - loss: 0.6931 - accuracy: 0.5066 - val_loss: 0.6934 - val_accuracy: 0.5047\n",
            "Epoch 14/15\n",
            "25000/25000 [==============================] - 121s 5ms/step - loss: 0.6931 - accuracy: 0.5048 - val_loss: 0.6933 - val_accuracy: 0.4995\n",
            "Epoch 15/15\n",
            "25000/25000 [==============================] - 122s 5ms/step - loss: 0.6931 - accuracy: 0.5080 - val_loss: 0.6933 - val_accuracy: 0.4863\n",
            "25000/25000 [==============================] - 22s 880us/step\n"
          ],
          "name": "stdout"
        },
        {
          "output_type": "execute_result",
          "data": {
            "text/plain": [
              "[0.6933484638023376, 0.48631998896598816]"
            ]
          },
          "metadata": {
            "tags": []
          },
          "execution_count": 13
        }
      ]
    },
    {
      "cell_type": "code",
      "metadata": {
        "id": "QZ9_DPjm8V6A",
        "colab_type": "code",
        "colab": {}
      },
      "source": [
        ""
      ],
      "execution_count": null,
      "outputs": []
    }
  ]
}