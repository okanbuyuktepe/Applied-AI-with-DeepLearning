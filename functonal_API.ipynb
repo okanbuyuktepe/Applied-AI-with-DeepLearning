{
  "nbformat": 4,
  "nbformat_minor": 0,
  "metadata": {
    "colab": {
      "name": "functonal-API.ipynb",
      "provenance": [],
      "authorship_tag": "ABX9TyNwlDqgi5L7Lrk/zdFIZhkS",
      "include_colab_link": true
    },
    "kernelspec": {
      "name": "python3",
      "display_name": "Python 3"
    }
  },
  "cells": [
    {
      "cell_type": "markdown",
      "metadata": {
        "id": "view-in-github",
        "colab_type": "text"
      },
      "source": [
        "<a href=\"https://colab.research.google.com/github/okanbuyuktepe/Applied-AI-with-DeepLearning/blob/master/functonal_API.ipynb\" target=\"_parent\"><img src=\"https://colab.research.google.com/assets/colab-badge.svg\" alt=\"Open In Colab\"/></a>"
      ]
    },
    {
      "cell_type": "markdown",
      "metadata": {
        "id": "yRcHpqQT9SuZ",
        "colab_type": "text"
      },
      "source": [
        "Lets look at non-Squential Models"
      ]
    },
    {
      "cell_type": "code",
      "metadata": {
        "id": "TD17RJw484yq",
        "colab_type": "code",
        "colab": {
          "base_uri": "https://localhost:8080/",
          "height": 34
        },
        "outputId": "21a7fcd1-7966-4809-af3f-15658a8fd575"
      },
      "source": [
        "from keras.layers import Dense, Input\n",
        "from keras.models import Model"
      ],
      "execution_count": 1,
      "outputs": [
        {
          "output_type": "stream",
          "text": [
            "Using TensorFlow backend.\n"
          ],
          "name": "stderr"
        }
      ]
    },
    {
      "cell_type": "code",
      "metadata": {
        "id": "ARH6sxNt9lqa",
        "colab_type": "code",
        "colab": {}
      },
      "source": [
        "num_classes = 10\n",
        "inputs = Input(shape=(784,))"
      ],
      "execution_count": 2,
      "outputs": []
    },
    {
      "cell_type": "code",
      "metadata": {
        "id": "Nx7ynDqL9wyH",
        "colab_type": "code",
        "colab": {}
      },
      "source": [
        "x = Dense(512, activation='relu')(inputs)\n",
        "x = Dense(512, activation='relu')(x)\n",
        "predictions  = Dense(num_classes, activation='softmax')(x)"
      ],
      "execution_count": 4,
      "outputs": []
    },
    {
      "cell_type": "code",
      "metadata": {
        "id": "GqdgolfN-D5l",
        "colab_type": "code",
        "colab": {}
      },
      "source": [
        "model = Model(inputs = inputs, outputs= predictions)\n",
        "model.compile(optimizer= 'sgd', loss='categorical_crossentropy', metrics=['accuracy'])"
      ],
      "execution_count": 5,
      "outputs": []
    },
    {
      "cell_type": "code",
      "metadata": {
        "id": "5BSBWIUE_AF9",
        "colab_type": "code",
        "colab": {}
      },
      "source": [
        "model.fit() # same as before"
      ],
      "execution_count": null,
      "outputs": []
    }
  ]
}