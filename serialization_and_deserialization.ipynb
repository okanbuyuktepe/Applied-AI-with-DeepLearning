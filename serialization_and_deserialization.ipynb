{
  "nbformat": 4,
  "nbformat_minor": 0,
  "metadata": {
    "colab": {
      "name": "serialization-and-deserialization.ipynb",
      "provenance": [],
      "authorship_tag": "ABX9TyO4pIBQv24JsNgFphO5QJLp",
      "include_colab_link": true
    },
    "kernelspec": {
      "name": "python3",
      "display_name": "Python 3"
    }
  },
  "cells": [
    {
      "cell_type": "markdown",
      "metadata": {
        "id": "view-in-github",
        "colab_type": "text"
      },
      "source": [
        "<a href=\"https://colab.research.google.com/github/okanbuyuktepe/Applied-AI-with-DeepLearning/blob/master/serialization_and_deserialization.ipynb\" target=\"_parent\"><img src=\"https://colab.research.google.com/assets/colab-badge.svg\" alt=\"Open In Colab\"/></a>"
      ]
    },
    {
      "cell_type": "code",
      "metadata": {
        "id": "Jd1zj30tAWOa",
        "colab_type": "code",
        "colab": {}
      },
      "source": [
        "from keras.models import model_from_json"
      ],
      "execution_count": null,
      "outputs": []
    },
    {
      "cell_type": "code",
      "metadata": {
        "id": "ZCPNcG5cAh1m",
        "colab_type": "code",
        "colab": {}
      },
      "source": [
        "# Save models as JSON and weight as HDF5\n",
        "json_string = model.to_json() # model.to_yaml\n",
        "model.save_weights('weights.h5')"
      ],
      "execution_count": null,
      "outputs": []
    },
    {
      "cell_type": "code",
      "metadata": {
        "id": "5jx872bHA-1Q",
        "colab_type": "code",
        "colab": {}
      },
      "source": [
        "# Load from JSON and set weights\n",
        "model = model_from_json(json_string)\n",
        "model.load_weights('weights.h5')"
      ],
      "execution_count": null,
      "outputs": []
    },
    {
      "cell_type": "code",
      "metadata": {
        "id": "X1VwVLypB03k",
        "colab_type": "code",
        "colab": {}
      },
      "source": [
        "from keras.models import load_model"
      ],
      "execution_count": 3,
      "outputs": []
    },
    {
      "cell_type": "code",
      "metadata": {
        "id": "_dI6A0L2B6Zk",
        "colab_type": "code",
        "colab": {}
      },
      "source": [
        "# Save full models or load the model saved\n",
        "model.save('full_model.h5')\n",
        "model = load_module('full_model.h5')"
      ],
      "execution_count": null,
      "outputs": []
    }
  ]
}